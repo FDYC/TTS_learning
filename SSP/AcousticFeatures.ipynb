{
 "cells": [
  {
   "cell_type": "markdown",
   "metadata": {},
   "source": [
    "### mel scale and frequency"
   ]
  },
  {
   "cell_type": "code",
   "execution_count": null,
   "metadata": {},
   "outputs": [],
   "source": [
    "from matplotlib import pyplot as plt\n",
    "import numpy as np\n",
    "\n",
    "x = np.linspace(0, 5000, num = 50000)\n",
    "y = 2595 * np.log10(1 + x / 700)\n",
    "# print(len(x))\n",
    "x0 = 1000\n",
    "y0 = 2595 * np.log10(1 + x0 / 700)\n",
    "plt.plot(x, y)\n",
    "plt.scatter(x0, y0)\n",
    "plt.plot([x0, x0], [0, y0], 'k--')\n",
    "plt.plot([0, x0], [x0, y0], 'k--')\n",
    "plt.xlabel('f(hz)')\n",
    "plt.ylabel('Mel(f)')\n",
    "plt.title('relationship between linear and mel scale')\n",
    "plt.xlim(0, x[-1])\n",
    "plt.ylim(0, y[-1])\n",
    "\n",
    "# plt.savefig('mel_vs_f.png')\n",
    "plt.show()"
   ]
  },
  {
   "cell_type": "markdown",
   "metadata": {},
   "source": [
    "### how to use librosa to draw a waveform of a audio file"
   ]
  },
  {
   "cell_type": "code",
   "execution_count": null,
   "metadata": {},
   "outputs": [],
   "source": [
    "from matplotlib import pyplot as plt\n",
    "import numpy as np\n",
    "import librosa\n",
    "\n",
    "# 使用librosa读取音频\n",
    "inputWavPath = \"/home/newdisk/XWLB-GNLBKX/dataset_02/wav/000012.wav\"\n",
    "y, sr = librosa.load(inputWavPath)\n",
    "yNum = np.arange(len(y))\n",
    "\n",
    "# 截取前0.3s的音频\n",
    "sampleSignal = y[0:int(sr*0.8)]\n",
    "sampleNum = np.arange(len(sampleSignal))\n",
    "\n",
    "plt.figure(figsize=(11, 7), dpi=500)\n",
    "plt.subplot(211)\n",
    "plt.plot(yNum/sr, y, color='black')\n",
    "plt.plot(sampleNum/sr, sampleSignal, color='blue')\n",
    "plt.xlabel('Time(sec)')\n",
    "plt.ylabel('Amplitude')\n",
    "plt.title('Waveform')\n",
    "\n",
    "plt.subplot(212)\n",
    "plt.plot(sampleNum/sr, sampleSignal, color='blue')\n",
    "plt.xlabel('Time(sec)')\n",
    "plt.ylabel('Amplitude')\n",
    "plt.title('0~0.3s waveform')\n",
    "plt.tight_layout()\n",
    "# plt.savefig('.\\\\temp\\\\waveform.png', dpi=500)\n",
    "plt.show()"
   ]
  },
  {
   "cell_type": "markdown",
   "metadata": {},
   "source": [
    "### how to draw mel spectrum"
   ]
  },
  {
   "cell_type": "code",
   "execution_count": null,
   "metadata": {},
   "outputs": [],
   "source": [
    "import librosa\n",
    "from matplotlib import pyplot as plt\n",
    "import numpy as np\n",
    "\n",
    "inputWavPath = \"/home/newdisk/XWLB-GNLBKX/dataset_02/wav/000012.wav\"\n",
    "sampleRate = 44100\n",
    "preemphasis = 0.97\n",
    "\n",
    "nFft = 2205\n",
    "frameLength = 0.05\n",
    "frameShift = 0.01\n",
    "\n",
    "fMin = 0\n",
    "fMax = sampleRate / 2\n",
    "\n",
    "eps  = 1e-10\n",
    "nMle = 80\n",
    "\n",
    "winLength = int(sampleRate * frameLength)\n",
    "hopLength = int(sampleRate * frameShift)\n",
    "melBasis = librosa.filters.mel(\n",
    "    sampleRate, nFft, nMle, fmin=fMin, fmax=fMax)\n",
    "\n",
    "\n",
    "def getSpectrogram(inputWavPath):\n",
    "    y, sr = librosa.load(inputWavPath)\n",
    "    y = np.append(y[0], y[1:]-preemphasis*y[:-1]) #预加重\n",
    "    linear = librosa.stft(\n",
    "        y=y, n_fft=nFft, hop_length=hopLength, win_length=winLength)\n",
    "    mag = np.abs(linear)\n",
    "    mel = np.dot(melBasis, mag)\n",
    "    mel = np.log10(np.maximum(eps, mel))\n",
    "    mel = mel.T.astype(np.float32)\n",
    "    return mel\n",
    "\n",
    "def plotSpectrogram(spectrogram, filePath):\n",
    "    spectrogram = spectrogram.T\n",
    "    fig = plt.figure(figsize=(16, 9))\n",
    "    plt.imshow(spectrogram, aspect='auto', origin='lower')\n",
    "    plt.colorbar()\n",
    "    plt.xlabel('frames')\n",
    "    plt.tight_layout()\n",
    "    plt.savefig(filePath, dpi=500)\n",
    "    plt.show()\n",
    "\n",
    "\n",
    "melspec = getSpectrogram(inputWavPath)\n",
    "plotSpectrogram(melspec, '../temp/mel_spectrogram.png')\n",
    "\n"
   ]
  },
  {
   "cell_type": "markdown",
   "metadata": {},
   "source": [
    "### extract MFCC"
   ]
  },
  {
   "cell_type": "code",
   "execution_count": null,
   "metadata": {},
   "outputs": [],
   "source": [
    "import librosa\n",
    "from matplotlib import pyplot as plt\n",
    "import numpy as np\n",
    "from scipy.fftpack import dct\n",
    "\n",
    "num_ceps = 12   #MFCC阶数，可选2~13\n",
    "mfcc = dct(melspec, type=2, axis=1, norm='ortho')[:, 1:(num_ceps + 1)]\n",
    "plotSpectrogram(mfcc, '../temp/mfcc.png')\n",
    "\n",
    "(nframes, ncoeff) = mfcc.shape\n",
    "cep_lifter = 22\n",
    "n = np.arange(ncoeff)\n",
    "lift = 1 + (cep_lifter / 2) * np.sin(np.pi * n / cep_lifter)\n",
    "mfcc *= lift\n",
    "plotSpectrogram(mfcc, '../temp/mfcc_list.png')\n"
   ]
  },
  {
   "cell_type": "markdown",
   "metadata": {},
   "source": [
    "### 均值方差归一化"
   ]
  },
  {
   "cell_type": "code",
   "execution_count": null,
   "metadata": {},
   "outputs": [],
   "source": [
    "frame_num = melspec.shape[0]\n",
    "cep_sum = np.sum(melspec, axis=0)\n",
    "cep_squ_sum = np.sum(np.square(melspec), axis=0)\n",
    "cep_mean = cep_sum / frame_num\n",
    "cep_std = cep_squ_sum / frame_num - np.square(cep_mean)"
   ]
  }
 ],
 "metadata": {
  "interpreter": {
   "hash": "d99d4a25d894a4776ecbf616b3585fd09b62ac20e6648dd9b6f94902a4257e5a"
  },
  "kernelspec": {
   "display_name": "Python 3.8.5 ('fyc')",
   "language": "python",
   "name": "python3"
  },
  "language_info": {
   "codemirror_mode": {
    "name": "ipython",
    "version": 3
   },
   "file_extension": ".py",
   "mimetype": "text/x-python",
   "name": "python",
   "nbconvert_exporter": "python",
   "pygments_lexer": "ipython3",
   "version": "3.9.11"
  },
  "orig_nbformat": 4
 },
 "nbformat": 4,
 "nbformat_minor": 2
}
