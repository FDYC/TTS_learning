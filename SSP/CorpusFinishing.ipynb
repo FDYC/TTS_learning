{
 "cells": [
  {
   "cell_type": "markdown",
   "metadata": {},
   "source": [
    "### 能量规整，统一所有语音的的整体能量"
   ]
  },
  {
   "cell_type": "code",
   "execution_count": null,
   "metadata": {},
   "outputs": [],
   "source": [
    "import librosa\n",
    "import numpy as np\n",
    "\n",
    "def normalize_wav(wav_path, sample_rate, target_loudness=-24.0)\n",
    "    y, sr = librosa.load(wav_path, sr=sample_rate)\n",
    "    meter = pyln.Meter(sr)        #create BS.1770 meter\n",
    "    loudness = meter.integrated_loudness(y)\n",
    "    y =  pyln.normalize.loudness(y, loudness, target_loudness)\n",
    "    peak = np.abs(y).max()\n",
    "    if peak >= 1:\n",
    "        y = y /peak * 0.999\n",
    "    return y"
   ]
  }
 ],
 "metadata": {
  "interpreter": {
   "hash": "913bf0c0f889a9a2fc1f93d78155393dbc8f83bb895327e06eef1a0cab997458"
  },
  "kernelspec": {
   "display_name": "Python 3.9.11 ('ttslearning')",
   "language": "python",
   "name": "python3"
  },
  "language_info": {
   "name": "python",
   "version": "3.9.11"
  },
  "orig_nbformat": 4
 },
 "nbformat": 4,
 "nbformat_minor": 2
}
